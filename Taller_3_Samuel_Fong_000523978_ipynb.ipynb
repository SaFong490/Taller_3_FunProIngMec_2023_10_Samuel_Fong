{
  "nbformat": 4,
  "nbformat_minor": 0,
  "metadata": {
    "colab": {
      "provenance": [],
      "authorship_tag": "ABX9TyPxUNiNFxgDYkv4e1TMvqfA",
      "include_colab_link": true
    },
    "kernelspec": {
      "name": "python3",
      "display_name": "Python 3"
    },
    "language_info": {
      "name": "python"
    }
  },
  "cells": [
    {
      "cell_type": "markdown",
      "metadata": {
        "id": "view-in-github",
        "colab_type": "text"
      },
      "source": [
        "<a href=\"https://colab.research.google.com/github/SaFong490/Taller_3_FunProIngMec_2023_10_Samuel_Fong/blob/main/Taller_3_Samuel_Fong_000523978_ipynb.ipynb\" target=\"_parent\"><img src=\"https://colab.research.google.com/assets/colab-badge.svg\" alt=\"Open In Colab\"/></a>"
      ]
    },
    {
      "cell_type": "markdown",
      "source": [
        "#Taller 3: Condicionales#\n",
        "##Fundamentos de Programación##\n",
        "#### Samuel David Fong Ramos ####\n",
        "####ID: 000523978####\n",
        "####samuel.fong@upb.edu.co####"
      ],
      "metadata": {
        "id": "T6-NJCVB83Vp"
      }
    },
    {
      "cell_type": "code",
      "execution_count": 10,
      "metadata": {
        "colab": {
          "base_uri": "https://localhost:8080/"
        },
        "id": "97bBAEk28EGC",
        "outputId": "a1f86cc8-ec5b-4da6-a0a9-d645a771b3f8"
      },
      "outputs": [
        {
          "output_type": "stream",
          "name": "stdout",
          "text": [
            "Ingrese su estrato socioeconómico: 3\n",
            "¿Vives dentro o fuera de Montería? (Dentro/Fuera): Dentro\n",
            "Ingrese su edad: 17\n",
            "Ingrese su promedio ponderado obtenido en el semestre: 4.5\n",
            "Gasto total de transporte: $ 140000\n",
            "Gasto total de comida: $ 400000\n",
            "Gasto total de matrícula: $ 5000000\n",
            "Apoyo de Chocolove en transporte: $ 0\n",
            "Apoyo de Chocolove en comida: $ 0\n",
            "Apoyo de Chocolove en matrícula: $ 2000000.0\n",
            "Gasto total mensual : $ 500000.0\n"
          ]
        }
      ],
      "source": [
        "# Primero se solicitan los datos al estudiante:\n",
        "estrato = (input(\"Ingrese su estrato socioeconómico: \"))\n",
        "residencia = input(\"¿Vives dentro o fuera de Montería? (Dentro/Fuera): \")\n",
        "edad = (input(\"Ingrese su edad: \"))\n",
        "promedio = float(input(\"Ingrese su promedio ponderado obtenido en el semestre: \"))\n",
        "\n",
        "# Luego se definen las variables de costo de vida del estudiante:\n",
        "if residencia == \"dentro\":\n",
        "    costo_del_transporte = 2800\n",
        "else:\n",
        "    costo_del_transporte = 3500\n",
        "\n",
        "costo_comida = 20000\n",
        "costo_matricula = 5000000\n",
        "\n",
        "# Así mismo se calculan los costos totales durante el semestre:\n",
        "gasto_transporte = costo_del_transporte * 2 * 20\n",
        "gasto_comida = costo_comida * 20\n",
        "gasto_matricula = costo_matricula\n",
        "gasto_total = gasto_transporte + gasto_comida + gasto_matricula\n",
        "\n",
        "# Luego se calculan los apoyos brindados por Chocolove, así:\n",
        "if estrato == 1:\n",
        "    if edad < 18:\n",
        "        apoyo_transporte = 65000\n",
        "        apoyo_comida = costo_comida * 0.9\n",
        "    else:\n",
        "        apoyo_transporte = 50000\n",
        "        apoyo_comida = costo_comida * 0.7\n",
        "elif estrato == 2:\n",
        "    if edad < 18:\n",
        "        apoyo_transporte = 45000\n",
        "        apoyo_comida = costo_comida * 0.7\n",
        "    else:\n",
        "        apoyo_transporte = 30000\n",
        "        apoyo_comida = costo_comida * 0.5\n",
        "elif estrato == 3:\n",
        "    if edad < 18:\n",
        "        apoyo_transporte = 35000\n",
        "        apoyo_comida = costo_comida * 0.5\n",
        "    else:\n",
        "        apoyo_transporte = 20000\n",
        "        apoyo_comida = costo_comida * 0.3\n",
        "else:\n",
        "    apoyo_transporte = 0\n",
        "    apoyo_comida = 0\n",
        "\n",
        "# Igualmente se calcula el apoyo de Chocolove a la matrícula\n",
        "if promedio > 4.8:\n",
        "    apoyo_matricula = costo_matricula\n",
        "elif promedio > 4.5:\n",
        "    apoyo_matricula = costo_matricula * 0.7\n",
        "elif promedio > 4.0:\n",
        "    apoyo_matricula = costo_matricula * 0.4\n",
        "else:\n",
        "    apoyo_matricula = 0\n",
        "\n",
        "# Para terminar se calcula gasto total final:\n",
        "gasto_total = apoyo_transporte + apoyo_comida + apoyo_matricula\n",
        "\n",
        "# Finalmente se imprimen los resultados:\n",
        "print(\"Gasto total de transporte: $\", gasto_transporte)\n",
        "print(\"Gasto total de comida: $\", gasto_comida)\n",
        "print(\"Gasto total de matrícula: $\", gasto_matricula)\n",
        "print(\"Apoyo de Chocolove en transporte: $\", apoyo_transporte)\n",
        "print(\"Apoyo de Chocolove en comida: $\", apoyo_comida)\n",
        "print(\"Apoyo de Chocolove en matrícula: $\", apoyo_matricula)\n",
        "print(\"Gasto total mensual : $\", gasto_total/4)"
      ]
    }
  ]
}